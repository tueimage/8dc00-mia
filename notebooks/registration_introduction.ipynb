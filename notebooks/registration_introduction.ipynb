{
 "cells": [
  {
   "cell_type": "markdown",
   "metadata": {},
   "source": [
    "# Exercises: Medical image registration\n",
    "\n",
    "The goal of the exercises is two-fold. First, they will help you study and understand the material better. Second, the functions that you develop in the exercises are designed in such a way that they can be used for the project work. You should not wait to complete all exercises before moving to work on the project. For example, after completing the exercises on geometrical transformations and least-squares fitting, you can already start the work on the point-based registration part of the project.\n",
    "\n",
    "Some quick remarks on the notation used in the notebooks: Vectors and matrices are represented by a bold typeface, matrices with uppercase and vectors with lowercase letters, e.g. the matrix $\\mathbf{X}$, the vector $\\mathbf{w}$ etc. Compare this with the notation for scalars: $X$, $w$. In-line Python function (i.e. definition) names, commands, files and variables are represented in a highlighted monospace font, e.g. `X`, `w`, `imshow(I)`, `some_python_definition()`, `some_file.py` etc."
   ]
  }
 ],
 "metadata": {
  "kernelspec": {
   "display_name": "Python 3",
   "language": "python",
   "name": "python3"
  },
  "language_info": {
   "codemirror_mode": {
    "name": "ipython",
    "version": 3
   },
   "file_extension": ".py",
   "mimetype": "text/x-python",
   "name": "python",
   "nbconvert_exporter": "python",
   "pygments_lexer": "ipython3",
   "version": "3.7.4"
  }
 },
 "nbformat": 4,
 "nbformat_minor": 4
}
