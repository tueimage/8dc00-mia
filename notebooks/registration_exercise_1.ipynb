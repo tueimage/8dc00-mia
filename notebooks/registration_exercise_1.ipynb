{
 "cells": [
  {
   "cell_type": "markdown",
   "metadata": {},
   "source": [
    "# 1. Geometrical transformations\n",
    "In these exercises you will first implement Python definitions for computing transformation matrices for different geometrical transformations. Then, you will implement code for converting a transformation matrix to homogeneous form. All needed information for implementing these functions can be found in the lecture slides. In the beginning, you will apply the transformations to geometric objects, however, the same functions will be later used for image transformation.\n"
   ]
  },
  {
   "cell_type": "markdown",
   "metadata": {},
   "source": [
    "## 1.1. Transformation matrices\n",
    "### (A)\n",
    "Assuming that the coordinates of a 2D geometric object are stored in the variable `X` (the first row contains the horizontal coordinates and the second row contains the vertical coordinates), translation of the geometric object can be performed by adding a 2D translation vector `Xt` to every vertex of `X`:\n",
    "\n",
    "```python\n",
    "X[0,:] = X[0,:] + Xt[0]\n",
    "X[1,:] = X[1,:] + Xt[1]\n",
    "```\n",
    "\n",
    "Translation is arguably the \"simplest\" geometrical transformation that can be applied to an object. Let's leave it aside for now and focus on the other geometrical transformations. The identity, scaling, rotation, reflection and shearing transformations (or any combination of these transformations) can be performed by multiplying the matrix of coordinates `X` with an appropriate transformation matrix `T`. Here is an example of Python code that compute transformation matrices for the identity transformation (which is not really a transformation) and scaling:\n",
    "\n",
    "```python\n",
    "import numpy as np\n",
    "\n",
    "def identity():\n",
    "    T = np.eye(2)\n",
    "    return T\n",
    "\n",
    "def scale(sx, sy):\n",
    "    T = np.array([[sx,0],[0,sy]])\n",
    "    return T\n",
    "```"
   ]
  },
  {
   "cell_type": "markdown",
   "metadata": {},
   "source": [
    "Using this implementation, scaling can be performed for example in the following way: `X_scaled = scale(2,3)*X`. To verify this, we can use the provided `test_object()` function in the `utilities.py` module that returns a test geometrical object in the shape of the letter *F*, and plot the original object and a scaled version of it (the provided `plot_object()` function in the `utilities.py` module can be used to plot the geometrical object) as follows:"
   ]
  },
  {
   "cell_type": "code",
   "execution_count": null,
   "metadata": {},
   "outputs": [],
   "source": [
    "%matplotlib inline\n",
    "import sys\n",
    "sys.path.append(\"../code\")\n",
    "import numpy as np\n",
    "import matplotlib.pyplot as plt\n",
    "import registration as reg\n",
    "import registration_util as util\n",
    "\n",
    "X = util.test_object(1)\n",
    "X_scaled = reg.scale(2, 3).dot(X)\n",
    "\n",
    "fig = plt.figure(figsize=(5,5))\n",
    "ax1  = fig.add_subplot(111)\n",
    "ax1.grid()\n",
    "util.plot_object(ax1, X)\n",
    "util.plot_object(ax1, X_scaled)"
   ]
  },
  {
   "cell_type": "markdown",
   "metadata": {},
   "source": [
    "### EXERCISE:\n",
    "Implement functions that return transformation matrices for 2D rotation, shearing and reflection. You can find the templates for these three definitions in `# SECTION 1` of the `registration.py` module. To test your implementation, run the `transforms_test()` script from the `registration_tests.py` module and make sure that the output matches the figure below.\n",
    "\n",
    "<img src=\"../notebooks/assets/transforms_test.png\" width=\"800\" height=\"600\" align=\"center\"/>"
   ]
  },
  {
   "cell_type": "code",
   "execution_count": null,
   "metadata": {},
   "outputs": [],
   "source": [
    "%matplotlib inline\n",
    "import sys\n",
    "sys.path.append(\"../code\")\n",
    "from registration_tests import transforms_test\n",
    "\n",
    "transforms_test()"
   ]
  },
  {
   "cell_type": "markdown",
   "metadata": {},
   "source": [
    "### (B)\n",
    "Geometrical transformations can be combined by multiplying transformation matrices. For example, the following (conceptual) command first applies a 90° rotation to an object and then a vertical reflection: `X_t = reflect(-1,1)*rotate(pi/2)*X`. \n",
    "\n",
    "### QUESTION:\n",
    "Would the result be different if the two transformations in the example above are applied in reversed order? Motivate your answer. "
   ]
  },
  {
   "cell_type": "markdown",
   "metadata": {},
   "source": [
    "### EXERCISE:\n",
    "Test a few more examples of combining transformations. Save the examples in the `combining_transforms()` script template in the `registration_tests.py` module."
   ]
  },
  {
   "cell_type": "code",
   "execution_count": null,
   "metadata": {},
   "outputs": [],
   "source": [
    "%matplotlib inline\n",
    "import sys\n",
    "sys.path.append(\"../code\")\n",
    "from registration_tests import combining_transforms\n",
    "\n",
    "combining_transforms()"
   ]
  },
  {
   "cell_type": "markdown",
   "metadata": {},
   "source": [
    "## 1.2. Homogeneous coordinates\n",
    "### (A)\n",
    "As it was mentioned at the beginning of the previous exercise, translation can be performed by adding a translation vector to the coordinates of an object. Translation can be combined with other geometrical transformations, for example:"
   ]
  },
  {
   "cell_type": "code",
   "execution_count": null,
   "metadata": {},
   "outputs": [],
   "source": [
    "%matplotlib inline\n",
    "import sys\n",
    "sys.path.append(\"../code\")\n",
    "import numpy as np\n",
    "import matplotlib.pyplot as plt\n",
    "import registration as reg\n",
    "import registration_util as util\n",
    "\n",
    "X = util.test_object(1)\n",
    "\n",
    "# translation vector\n",
    "t = np.array([10, 20])\n",
    "\n",
    "# rotate by 45 deg.\n",
    "X_rot = reg.rotate(np.pi/4).dot(X)\n",
    "\n",
    "# translate by 10 in the horizontal and 20 in the vertical direction\n",
    "X_rot_tran = np.empty(shape=X.shape)\n",
    "X_rot_tran[0,:] = X_rot[0,:] + t[0];\n",
    "X_rot_tran[1,:] = X_rot[1,:] + t[1];\n",
    "\n",
    "fig = plt.figure(figsize=(5,5))\n",
    "ax1  = fig.add_subplot(111)\n",
    "ax1.grid()\n",
    "util.plot_object(ax1, X)\n",
    "util.plot_object(ax1, X_rot_tran)"
   ]
  },
  {
   "cell_type": "markdown",
   "metadata": {},
   "source": [
    "However, this way of combining translation with other transformations can be a bit cumbersome (it somewhat complicates the mathematical notation and implementation in code). The transformations that you have implemented in the previous exercise can be straightforwardly combined with translation by converting the transformation matrix to homogeneous form. This matrix can then be applied to the homogeneous coordinates (details can be found in the lecture slides). The function `c2h()` given below (also available in the `utilities.py` module) implements conversion from Cartesian coordinates to homogeneous coordinates. As you can see from the code, this conversion is performed by simply adding an additional row of coordinates with all ones:"
   ]
  },
  {
   "cell_type": "code",
   "execution_count": null,
   "metadata": {},
   "outputs": [],
   "source": [
    "%matplotlib inline\n",
    "import sys\n",
    "sys.path.append(\"../code\")\n",
    "import registration_util as util\n",
    "import numpy as np\n",
    "\n",
    "X = util.test_object(1)\n",
    "Xh = util.c2h(X)\n",
    "\n",
    "print('X:\\n{}\\n'.format(X))\n",
    "print('Xh:\\n{}\\n'.format(Xh))"
   ]
  },
  {
   "cell_type": "markdown",
   "metadata": {},
   "source": [
    "### EXERCISE:\n",
    "Implement the function called `t2h()` in the `utilities.py` module that converts a transformation matrix and a translation vector to a transformation matrix in homogeneous form. The template for this definition is already provided in the module file. To test your function, verify that the `t2h_test()` script results in the same object as the example above (note that the function `plot_object()` also works with homogeneous coordinates):"
   ]
  },
  {
   "cell_type": "code",
   "execution_count": null,
   "metadata": {},
   "outputs": [],
   "source": [
    "%matplotlib inline\n",
    "import sys\n",
    "sys.path.append(\"../code\")\n",
    "from registration_tests import t2h_test\n",
    "\n",
    "t2h_test()"
   ]
  },
  {
   "cell_type": "markdown",
   "metadata": {},
   "source": [
    "### (B)\n",
    "The rotation transformation rotates the objects counterclockwise around the origin of the coordinate system. To perform rotation around an arbitrary point, the following sequence of transformations must be applied:\n",
    "1. Translate the object so the arbitrary rotation point is translated to the origin of the coordinate system\n",
    "2. Rotate the object\n",
    "3. Translate the object back so that the arbitrary rotation point is in the original location.\n",
    "\n",
    "These three transformation can be combined by multiplying the three homogeneous transformation matrices. Combining transformation matrices in homogeneous form works in the same way as the \"regular\" transformation matrices, i.e. by matrix multiplication. \n",
    "\n",
    "### EXERCISE:\n",
    "Write an example that rotates the test object by 45° around the first vertex (hint: the first vertex is `X[:,0]` and `t2h(reg.identity(), Xt)` is a homogeneous transformation matrix that performs only translation). Save the example in the provided `arbitrary_rotation()` template in the `registration_tests.py` module. The result should match the one shown in the figure below.\n",
    "\n",
    "<img src=\"../notebooks/assets/arbitrary_rotation.png\" width=\"400\" align=\"center\"/>\n"
   ]
  },
  {
   "cell_type": "code",
   "execution_count": null,
   "metadata": {},
   "outputs": [],
   "source": [
    "%matplotlib inline\n",
    "import sys\n",
    "sys.path.append(\"../code\")\n",
    "from registration_tests import arbitrary_rotation\n",
    "\n",
    "arbitrary_rotation()"
   ]
  },
  {
   "cell_type": "markdown",
   "metadata": {},
   "source": [
    "### (C)\n",
    "### QUESTION:\n",
    "What is rigid and what affine transformation? How many degrees of freedom dothese two types of transformations have in 2D?"
   ]
  }
 ],
 "metadata": {
  "kernelspec": {
   "display_name": "Python 3",
   "language": "python",
   "name": "python3"
  },
  "language_info": {
   "codemirror_mode": {
    "name": "ipython",
    "version": 3
   },
   "file_extension": ".py",
   "mimetype": "text/x-python",
   "name": "python",
   "nbconvert_exporter": "python",
   "pygments_lexer": "ipython3",
   "version": "3.7.3"
  }
 },
 "nbformat": 4,
 "nbformat_minor": 4
}
