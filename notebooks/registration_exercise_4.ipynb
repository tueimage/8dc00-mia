{
 "cells": [
  {
   "cell_type": "markdown",
   "metadata": {
    "slideshow": {
     "slide_type": "-"
    }
   },
   "source": [
    "# 4. Towards intensity-based image registration"
   ]
  },
  {
   "cell_type": "markdown",
   "metadata": {
    "slideshow": {
     "slide_type": "-"
    }
   },
   "source": [
    "## 4.1. Numerical differentiation\n",
    "Numerical differentiation refers to finding the value of a derivative of a given function at a given point without the need to analytically differentiate the function. This technique can be very useful, for example, when the analytical expression for the derivative is too complex and computationally expensive to evaluate. In such a case it might be significantly faster to approximate the derivative instead of computing its exact value."
   ]
  },
  {
   "cell_type": "markdown",
   "metadata": {},
   "source": [
    "A simple expression that approximates the derivative of a function $f(x)$ is:\n",
    "\n",
    "\\begin{equation}\n",
    "\\frac{d}{d x} f(x) \\approx \\frac{f(x+h)-f(x)}{h}\n",
    "\\end{equation}"
   ]
  },
  {
   "cell_type": "markdown",
   "metadata": {},
   "source": [
    "where $h$ is some very small positive number. When $h$ approaches zero this expression becomes the true value of the derivative:\n",
    "\n",
    "\\begin{equation}\n",
    "\\frac{d}{d x} f(x)=\\lim _{h \\rightarrow 0} \\frac{f(x+h)-f(x)}{h}\n",
    "\\end{equation}"
   ]
  },
  {
   "cell_type": "markdown",
   "metadata": {},
   "source": [
    "A better approximation of the derivative is the symmetric difference quotient given by the following expression:\n",
    "\n",
    "\\begin{equation}\n",
    "\\frac{d}{d x} f(x) \\approx \\frac{f\\left(x+\\frac{h}{2}\\right)-f\\left(x-\\frac{h}{2}\\right)}{h}\n",
    "\\end{equation}"
   ]
  },
  {
   "cell_type": "markdown",
   "metadata": {},
   "source": [
    "Numerical differentiation can also be used to approximate the partial derivatives of a function with more than one variable, for example:\n",
    "\n",
    "\\begin{equation}\n",
    "\\frac{\\partial}{\\partial x} f(x, y) \\approx \\frac{f\\left(x+\\frac{h}{2}, y\\right)-f\\left(x-\\frac{h}{2}, y\\right)}{h}\n",
    "\\end{equation}\n",
    "\n",
    "\\begin{equation}\n",
    "\\frac{\\partial}{\\partial y} f(x, y) \\approx \\frac{f\\left(x, y+\\frac{h}{2}\\right)-f\\left(x, y-\\frac{h}{2}\\right)}{h}\n",
    "\\end{equation}"
   ]
  },
  {
   "cell_type": "markdown",
   "metadata": {},
   "source": [
    "and in turn the gradient:\n",
    "\n",
    "\\begin{equation}\n",
    "\\ f(x, y)=\\left[ \\begin{array}{c}{\\frac{\\partial}{\\partial x} f(x, y)} \\\\ {\\frac{\\partial}{\\partial y} f(x, y)}\\end{array}\\right] \\approx\\left[\\frac{\\frac{f\\left(x+\\frac{h}{2}, y\\right)-f\\left(x-\\frac{h}{2}, y\\right)}{h}}{\\frac{f\\left(x, y+\\frac{h}{2}\\right)-f\\left(x, y-\\frac{h}{2}\\right)}{h}}\\right]\n",
    "\\end{equation}"
   ]
  },
  {
   "cell_type": "markdown",
   "metadata": {},
   "source": [
    "### (A)\n",
    "### EXERCISE:\n",
    "In the provided template for the `ngradient()` function in `# SECTION 4` of the `registration.py` module, implement the computation of the gradient of a function with numerical differentiation using the symmetric difference quotient. "
   ]
  },
  {
   "cell_type": "markdown",
   "metadata": {},
   "source": [
    "### (B)\n",
    "### EXERCISE:\n",
    "Test your implementation of `ngradient()`. An easy way to test this function is to numerically compute the gradient and then verify with the analytical expression. For example, since $\\frac{d}{d x} e^{x}=e^{x}$ the the numerical derivative $\\frac{d}{d x} e^{x}$ should have approximately the same value as $e^{x}$. Write your test cases in the provided `ngradient_test()` script in `# SECTION 4` of the `registration_tests.py` module."
   ]
  },
  {
   "cell_type": "code",
   "execution_count": null,
   "metadata": {},
   "outputs": [],
   "source": [
    "%matplotlib inline\n",
    "import sys\n",
    "sys.path.append(\"../code\")\n",
    "from registration_tests import ngradient_test\n",
    "\n",
    "ngradient_test()"
   ]
  },
  {
   "cell_type": "markdown",
   "metadata": {},
   "source": [
    "### (C)\n",
    "### QUESTION:\n",
    "The `ndgradient()` function can be used to perform optimization with the gradient ascent/descent method. Describe in short how this algorithm works. What is the role of the learning rate parameter in gradient descent/ascent?"
   ]
  },
  {
   "cell_type": "markdown",
   "metadata": {},
   "source": [
    "## 4.2. Similarity as a function of image transformation"
   ]
  },
  {
   "cell_type": "markdown",
   "metadata": {},
   "source": [
    "In the previous section, you have analyzed how the similarity between two images changes as a function of the rotation of one of the images. The goal of this exercise is to write a Python function that, given two images and the parameters of some transformation between them, will output the similarity measure. This function can then be used in combination with `ndgradient()` from the previous exercise to perform gradient based optimization of the transformation parameters."
   ]
  },
  {
   "cell_type": "markdown",
   "metadata": {},
   "source": [
    "### (A)\n",
    "The function `rigid_corr()` in `# SECTION 4` of the `registration.py` module computes the normalized cross-correlation between a fixed and a moving image transformed with rigid transformation. The three parameters of the rigid transformation (rotation angle and 2D translation vector) are passed to the function as a vector $\\mathbf{x}$."
   ]
  },
  {
   "cell_type": "markdown",
   "metadata": {},
   "source": [
    "Here is an example of how to use this function to numerically compute the derivative for a set of parameters:\n",
    "\n",
    "```python\n",
    "import numpy as np\n",
    "import matplotlib.pyplot as plt\n",
    "from registration_utils import ngradient\n",
    "\n",
    "I = plt.imread('some_fixed_image.tif')\n",
    "Im = plt.imread('some_moving_image.tif')\n",
    "\n",
    "# create an instance of rigid_corr for this particular pair of images\n",
    "rigid_corr_I_Im = lambda x: rigid_corr(I, Im, x)\n",
    "\n",
    "x = [np.pi/4, 10/100, 20/100]\n",
    "\n",
    "# computes the numerical gradient at x\n",
    "g = reg.ndgradient(rigid_corr_I_Im, x)\n",
    "```"
   ]
  },
  {
   "cell_type": "markdown",
   "metadata": {},
   "source": [
    "In this code snippet, we first create an instance of the function `rigid_corr()` where the first to input parameters (the fixed and moving image) are preset. The new function `rigid_corr_I_Im()` now has only a single input parameter - the vector $\\mathbf{x}$ that stores the rotation angle and the translation. `rigid_corr_I_Im()` can be used with `ndgradient()` to compute the gradient of the similarity function at a particular point (in this example for the point `x = [pi/4, 10/100, 20/100]`). \n",
    "\n",
    "### QUESTION:\n",
    "Let's assume that after executing this code snippet, the computed value for the derivative at point `x = [pi/4, 10, 20]` is `g = [10, -5, 30]`. Will increasing the rotation angle (the first parameter of $\\mathbf{x}$) by a very small amount increase or decrease the similarity between the fixed and transformed moving image? Motivate your answer."
   ]
  },
  {
   "cell_type": "markdown",
   "metadata": {},
   "source": [
    "### (B)\n",
    "### EXERCISE:\n",
    "Using `rigid_corr()` as an example, implement the following two functions in `# SECTION 4` of the `registration.py` module:\n",
    "1. `affine_corr()` that computes the normalized cross correlation for a pair of images as a function of affine transformation, and\n",
    "2. `affine_mi()` that computes the mutual information between a pair of images as a function of affine transformation.\n",
    "\n",
    "The only thing that you need to change is the length of the parameter vector, which for affine registration should contain the rotation, scaling, shearing and translation parameters, the computation of the transformation matrix and for `affine_mi()` the function call that computes the similarity measure."
   ]
  },
  {
   "cell_type": "markdown",
   "metadata": {},
   "source": [
    "## 4.3. Similarity as a function of rotation"
   ]
  },
  {
   "cell_type": "markdown",
   "metadata": {},
   "source": [
    "Let's put the implementations of correlation and mutual information functions to some use. You are going to compute the similarity between an image and a rotated version of that image for different rotation angles. The `registration_metrics_demo()` Python function contains code for performing this analysis. Study the function and make sure you understand what it does (you can skip the part about visualization of the results)."
   ]
  },
  {
   "cell_type": "markdown",
   "metadata": {},
   "source": [
    "### (A)\n",
    "### EXERCISE:\n",
    "Run the demo and describe and analyze the results."
   ]
  },
  {
   "cell_type": "code",
   "execution_count": null,
   "metadata": {
    "scrolled": false
   },
   "outputs": [],
   "source": [
    "%matplotlib inline\n",
    "import sys\n",
    "sys.path.append(\"../code\")\n",
    "from registration_tests import registration_metrics_demo\n",
    "\n",
    "registration_metrics_demo()"
   ]
  },
  {
   "cell_type": "markdown",
   "metadata": {},
   "source": [
    "### (B)\n",
    "### QUESTION:\n",
    "Run the demo again but this time compute the similarity of the T1 image with a rotated version of the T2 image for different angles (note that the T1 and T2 images in this example are registered). Describe and analyze the results. Would the normalized cross-correlation metric be suitable to register the T1 and T2 images? Which of the two analyzed metrics would be more appropriate? Motivate your answer."
   ]
  }
 ],
 "metadata": {
  "kernelspec": {
   "display_name": "Python 3",
   "language": "python",
   "name": "python3"
  },
  "language_info": {
   "codemirror_mode": {
    "name": "ipython",
    "version": 3
   },
   "file_extension": ".py",
   "mimetype": "text/x-python",
   "name": "python",
   "nbconvert_exporter": "python",
   "pygments_lexer": "ipython3",
   "version": "3.7.4"
  }
 },
 "nbformat": 4,
 "nbformat_minor": 4
}
