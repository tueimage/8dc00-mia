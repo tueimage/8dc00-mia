{
 "cells": [
  {
   "cell_type": "markdown",
   "metadata": {},
   "source": [
    "# Exercises: Image segmentation\n",
    "\n",
    "The goal of these exercises is to implement and analyse algorithms for segmentation of 2D (medical) images. You will implement some algorithms (almost) from scratch, without extensive use of Python's built-in functions. You can then use these functions for different segmentation tasks: segmenting the brain from the background (in the exercises) and segmenting different types of brain tissue (in the project). We will be using almost the same images as in the registration exercises. Before, the T1 and T2 were not registered for you to practice registration. For the segmentation project, we provide already registered images. We also provide \"ground truth\" images, which indicate the different tissue types in the image. Please check that you use the correct images, which are included in the segmentation zip file."
   ]
  }
 ],
 "metadata": {
  "kernelspec": {
   "display_name": "Python 3",
   "language": "python",
   "name": "python3"
  },
  "language_info": {
   "codemirror_mode": {
    "name": "ipython",
    "version": 3
   },
   "file_extension": ".py",
   "mimetype": "text/x-python",
   "name": "python",
   "nbconvert_exporter": "python",
   "pygments_lexer": "ipython3",
   "version": "3.7.3"
  }
 },
 "nbformat": 4,
 "nbformat_minor": 4
}
